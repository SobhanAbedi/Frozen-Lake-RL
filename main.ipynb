{
 "cells": [
  {
   "cell_type": "markdown",
   "metadata": {},
   "source": [
    "## Imports"
   ]
  },
  {
   "cell_type": "code",
   "execution_count": 40,
   "metadata": {
    "ExecuteTime": {
     "end_time": "2024-02-06T20:59:34.319332500Z",
     "start_time": "2024-02-06T20:59:33.988222800Z"
    }
   },
   "outputs": [],
   "source": [
    "import numpy as np\n",
    "import gymnasium as gym\n",
    "from IPython.display import HTML\n",
    "from base64 import b64encode\n",
    "import imageio"
   ]
  },
  {
   "cell_type": "markdown",
   "metadata": {},
   "source": [
    "## Utils"
   ]
  },
  {
   "cell_type": "code",
   "execution_count": 41,
   "metadata": {
    "ExecuteTime": {
     "end_time": "2024-02-06T20:59:34.370279800Z",
     "start_time": "2024-02-06T20:59:34.325317600Z"
    }
   },
   "outputs": [],
   "source": [
    "def record_video(env, policy, out_directory, fps=1, random_action=False, max_steps=100):\n",
    "    images = []  \n",
    "    terminated = False\n",
    "    truncated = False\n",
    "    state, info = env.reset()\n",
    "    img = env.render()\n",
    "    images.append(img)\n",
    "    total_reward = 0\n",
    "    i = 0\n",
    "    while not terminated and not truncated:\n",
    "        i += 1\n",
    "        if i > max_steps:\n",
    "            break\n",
    "        action = np.random.randint(4) if random_action else policy[state]\n",
    "        state, reward, terminated, truncated, info = env.step(action)\n",
    "        total_reward += reward\n",
    "        img = env.render()\n",
    "        images.append(img)\n",
    "        if not random_action:\n",
    "            print(f\"step: {i}, action: {action}, state: {state}, reward: {reward}, done: {terminated}, truncated: {truncated}, info: {info}\")\n",
    "    imageio.mimsave(out_directory, [np.array(img) for i, img in enumerate(images)], fps=fps)\n",
    "    return total_reward"
   ]
  },
  {
   "cell_type": "code",
   "execution_count": 42,
   "metadata": {
    "ExecuteTime": {
     "end_time": "2024-02-06T20:59:34.418141800Z",
     "start_time": "2024-02-06T20:59:34.354314400Z"
    }
   },
   "outputs": [],
   "source": [
    "def show_video(video_path, video_width=500):\n",
    "    video_file = open(video_path, \"r+b\").read()\n",
    "    video_url = f\"data:video/mp4;base64,{b64encode(video_file).decode()}\"\n",
    "    return HTML(f\"\"\"<video width={video_width} controls><source src=\"{video_url}\"></video>\"\"\")"
   ]
  },
  {
   "cell_type": "markdown",
   "metadata": {},
   "source": [
    "## Random Walk"
   ]
  },
  {
   "cell_type": "code",
   "execution_count": 43,
   "metadata": {
    "ExecuteTime": {
     "end_time": "2024-02-06T20:59:34.514248600Z",
     "start_time": "2024-02-06T20:59:34.403183Z"
    }
   },
   "outputs": [
    {
     "name": "stdout",
     "output_type": "stream",
     "text": [
      "total reward: 0.0\n"
     ]
    },
    {
     "data": {
      "text/plain": "<IPython.core.display.HTML object>",
      "text/html": "<video width=500 controls><source src=\"data:video/mp4;base64,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\"></video>"
     },
     "execution_count": 43,
     "metadata": {},
     "output_type": "execute_result"
    }
   ],
   "source": [
    "is_slippery = False\n",
    "if is_slippery:\n",
    "    video_name = 'frozenlake_slippery_random.gif'\n",
    "else:\n",
    "    video_name = 'frozenlake_random.gif'\n",
    "env = gym.make(\"FrozenLake-v1\", map_name=\"4x4\", is_slippery=is_slippery, render_mode='rgb_array')\n",
    "total_reward = record_video(env, None, video_name, fps=3, random_action=True)\n",
    "print(f\"total reward: {total_reward}\")\n",
    "show_video(video_name, video_width=500)"
   ]
  },
  {
   "cell_type": "markdown",
   "metadata": {},
   "source": [
    "## Define FrozenLake MDP"
   ]
  },
  {
   "cell_type": "code",
   "execution_count": 44,
   "metadata": {
    "ExecuteTime": {
     "end_time": "2024-02-06T20:59:34.564558600Z",
     "start_time": "2024-02-06T20:59:34.476417500Z"
    }
   },
   "outputs": [],
   "source": [
    "class FrozenLakeMDP:\n",
    "    def __init__(self, is_slippery):\n",
    "        self.is_slippery = is_slippery\n",
    "        self.terminal_states = np.zeros(16, dtype=int)\n",
    "        self.terminal_states[[5, 7, 11, 12, 15]] = 1\n",
    "        self.reward_fn = np.zeros(16, dtype=int)\n",
    "        self.reward_fn[15] = 1\n",
    "\n",
    "    def is_terminal(self, state):\n",
    "        return self.terminal_states[state]\n",
    "    \n",
    "    def get_reward_function(self):\n",
    "        return self.reward_fn\n",
    "\n",
    "    def next_state_det(self, state, action):\n",
    "        if action == 0:    # LEFT\n",
    "            next_state = state - 1 if state % 4 != 0 else state\n",
    "        elif action == 1:  # DOWN\n",
    "            next_state = state + 4 if state // 4 != 3 else state\n",
    "        elif action == 2:  # RIGHT\n",
    "            next_state = state + 1 if state % 4 != 3 else state\n",
    "        elif action == 3:  # UP\n",
    "            next_state = state - 4 if state // 4 != 0 else state\n",
    "        else:         # WRONG ACTION\n",
    "            next_state = state\n",
    "        return next_state\n",
    "    \n",
    "    def trans_prob(self, state, action):\n",
    "        prob = np.zeros((16,), dtype=float)\n",
    "        if not self.is_slippery:\n",
    "            prob[self.next_state_det(state, action)] = 1.0\n",
    "        else:\n",
    "            prob[self.next_state_det(state, action)] += 1/3\n",
    "            prob[self.next_state_det(state, (action+1)%4)] += 1/3\n",
    "            prob[self.next_state_det(state, (action-1)%4)] += 1/3\n",
    "        return prob\n",
    "\n",
    "    def next_state_reward(self, state, action):\n",
    "        next_state_probs = self.trans_prob(state, action)\n",
    "        next_state = np.random.choice(16, p=next_state_probs)\n",
    "        reward = self.reward_fn[next_state]\n",
    "        return next_state, reward"
   ]
  },
  {
   "cell_type": "code",
   "execution_count": 45,
   "metadata": {
    "ExecuteTime": {
     "end_time": "2024-02-06T20:59:34.594299100Z",
     "start_time": "2024-02-06T20:59:34.518239400Z"
    }
   },
   "outputs": [],
   "source": [
    "dynamics = FrozenLakeMDP(is_slippery=False)"
   ]
  },
  {
   "cell_type": "code",
   "execution_count": 46,
   "metadata": {
    "ExecuteTime": {
     "end_time": "2024-02-06T20:59:34.652859600Z",
     "start_time": "2024-02-06T20:59:34.575536100Z"
    }
   },
   "outputs": [
    {
     "data": {
      "text/plain": "array([0, 0, 0, 0, 0, 0, 0, 0, 0, 0, 0, 0, 0, 0, 0, 1])"
     },
     "execution_count": 46,
     "metadata": {},
     "output_type": "execute_result"
    }
   ],
   "source": [
    "# reward function of the environent\n",
    "dynamics.get_reward_function()"
   ]
  },
  {
   "cell_type": "code",
   "execution_count": 47,
   "metadata": {
    "ExecuteTime": {
     "end_time": "2024-02-06T20:59:34.709709600Z",
     "start_time": "2024-02-06T20:59:34.642373200Z"
    }
   },
   "outputs": [
    {
     "name": "stdout",
     "output_type": "stream",
     "text": [
      "0 1 1\n"
     ]
    }
   ],
   "source": [
    "# evaluating if a given state is a terminal state (= hole or goal)\n",
    "print(dynamics.is_terminal(0), dynamics.is_terminal(7), dynamics.is_terminal(15))"
   ]
  },
  {
   "cell_type": "code",
   "execution_count": 48,
   "metadata": {
    "ExecuteTime": {
     "end_time": "2024-02-06T20:59:34.747411100Z",
     "start_time": "2024-02-06T20:59:34.713695400Z"
    }
   },
   "outputs": [
    {
     "data": {
      "text/plain": "array([0., 0., 0., 0., 0., 0., 0., 0., 0., 0., 0., 0., 0., 0., 0., 1.])"
     },
     "execution_count": 48,
     "metadata": {},
     "output_type": "execute_result"
    }
   ],
   "source": [
    "# if we take action `a` in state `s`,\n",
    "# what is the probability of landing in each state?\n",
    "dynamics.trans_prob(14, 2)"
   ]
  },
  {
   "cell_type": "code",
   "execution_count": 49,
   "metadata": {
    "ExecuteTime": {
     "end_time": "2024-02-06T20:59:34.815768900Z",
     "start_time": "2024-02-06T20:59:34.744907700Z"
    }
   },
   "outputs": [
    {
     "name": "stdout",
     "output_type": "stream",
     "text": [
      "15 1\n"
     ]
    }
   ],
   "source": [
    "# if we take action `a` in state `s`, what do we get?\n",
    "# this is done through sampling the transition probability\n",
    "next_state, reward = dynamics.next_state_reward(14, 2)\n",
    "print(next_state, reward)"
   ]
  },
  {
   "cell_type": "markdown",
   "metadata": {},
   "source": [
    "## Iterative Policy Evaluation"
   ]
  },
  {
   "cell_type": "code",
   "execution_count": 50,
   "metadata": {
    "ExecuteTime": {
     "end_time": "2024-02-06T20:59:34.855297900Z",
     "start_time": "2024-02-06T20:59:34.803265Z"
    }
   },
   "outputs": [],
   "source": [
    "def policy_evaluation(dynamics, policy, gamma=0.9, num_iter=100):\n",
    "    \"\"\"\n",
    "    evaluates policy based on Iterative Policy Evaluation.\n",
    " \n",
    "    Args:\n",
    "        dynamics (FrozenLakeMDP): dynamics of the environment.\n",
    "        policy (numpy.array): policy we want to evaluate.\n",
    "        gamma (float): discount factor.\n",
    "        num_iter (int): number of iterations for the loop.\n",
    " \n",
    "    Returns:\n",
    "        numpy.array: state value function.\n",
    "    \"\"\"\n",
    "\n",
    "    # Iterative Policy Evaluation algorithm\n",
    "    s_value_function = np.zeros(16, dtype=float)\n",
    "    rewards = dynamics.get_reward_function().astype(float)\n",
    "    for itr in range(num_iter):\n",
    "        s_value_function_next = np.zeros(16, dtype=float)\n",
    "        next_states_utility = np.add(rewards, np.multiply(gamma, s_value_function))\n",
    "        for s in range(16):\n",
    "            if not dynamics.is_terminal(s):\n",
    "                s_value_function_next[s] = np.dot(dynamics.trans_prob(s, policy[s]), next_states_utility) \n",
    "        diff = np.sum(np.abs(np.subtract(s_value_function_next, s_value_function)))\n",
    "        s_value_function = s_value_function_next\n",
    "        if diff < 0.001 * 16:\n",
    "            # print(f\"Number of Policy Evaluation Iterations: {itr}\")\n",
    "            break\n",
    "    return s_value_function"
   ]
  },
  {
   "cell_type": "code",
   "execution_count": 51,
   "metadata": {
    "ExecuteTime": {
     "end_time": "2024-02-06T20:59:34.904487300Z",
     "start_time": "2024-02-06T20:59:34.848804500Z"
    }
   },
   "outputs": [],
   "source": [
    "is_slippery = False\n",
    "dynamics = FrozenLakeMDP(is_slippery=is_slippery)\n",
    "\n",
    "# 1. go-right policy\n",
    "#policy = 2 * np.ones(16, dtype=int)\n",
    "\n",
    "# 2. shortest-path policy\n",
    "policy = np.array([1, 2, 1, 0, 1, -1, 1, -1, 2, 1, 1, -1, -1, 2, 2, -1])\n",
    "\n",
    "s_value_function = policy_evaluation(dynamics, policy)"
   ]
  },
  {
   "cell_type": "code",
   "execution_count": 52,
   "metadata": {
    "ExecuteTime": {
     "end_time": "2024-02-06T20:59:34.934407Z",
     "start_time": "2024-02-06T20:59:34.892199200Z"
    }
   },
   "outputs": [
    {
     "name": "stdout",
     "output_type": "stream",
     "text": [
      "Resulted Values for [ 1  2  1  0  1 -1  1 -1  2  1  1 -1 -1  2  2 -1] policy and non-slippery gameplay:\n",
      "[0.59  \t0.656 \t0.729 \t0.656]\n",
      "[0.656 \t0.    \t0.81  \t0.   ]\n",
      "[0.729 \t0.81  \t0.9   \t0.   ]\n",
      "[0.  \t0.9 \t1.  \t0. ]\n"
     ]
    }
   ],
   "source": [
    "# print and analyze the state value function\n",
    "print(f'Resulted Values for {policy} policy and {\"\" if is_slippery else \"non-\"}slippery gameplay:')\n",
    "for i in range(4):\n",
    "    print(np.array2string(s_value_function[4*i:4*i+4], precision=3, separator=' \\t'))"
   ]
  },
  {
   "cell_type": "markdown",
   "metadata": {},
   "source": [
    "## Policy Iteration"
   ]
  },
  {
   "cell_type": "code",
   "execution_count": 53,
   "metadata": {
    "ExecuteTime": {
     "end_time": "2024-02-06T20:59:34.995880800Z",
     "start_time": "2024-02-06T20:59:34.921442800Z"
    }
   },
   "outputs": [],
   "source": [
    "def greedy_policy_improvement(dynamics, s_value_function, gamma=0.9):\n",
    "    \"\"\"\n",
    "    obtains a policy in a greedy manner based on current state value function.\n",
    " \n",
    "    Args:\n",
    "        dynamics (FrozenLakeMDP): dynamics of the environment.\n",
    "        s_value_function (numpy.array): state value function.\n",
    "        gamma (float): discount factor.\n",
    " \n",
    "    Returns:\n",
    "        numpy.array: the greedy policy.\n",
    "    \"\"\"\n",
    "\n",
    "    # Greedy Policy Improvement algorithm\n",
    "    policy = np.zeros(16, dtype=int)\n",
    "    best_action = 0\n",
    "    best_action_utility = 0.0\n",
    "    rewards = dynamics.get_reward_function().astype(float)\n",
    "    next_states_utility = np.add(rewards, np.multiply(gamma, s_value_function))\n",
    "    for s in range(16): \n",
    "        if dynamics.is_terminal(s):\n",
    "            policy[s] = -1\n",
    "            continue\n",
    "        for a in range(4):\n",
    "            action_utility = np.dot(dynamics.trans_prob(s, a), next_states_utility)\n",
    "            if a == 0 or action_utility > best_action_utility:\n",
    "                best_action_utility = action_utility\n",
    "                best_action = a\n",
    "        policy[s] = best_action\n",
    "    return policy"
   ]
  },
  {
   "cell_type": "code",
   "execution_count": 54,
   "metadata": {
    "ExecuteTime": {
     "end_time": "2024-02-06T20:59:35.027795900Z",
     "start_time": "2024-02-06T20:59:34.970436100Z"
    }
   },
   "outputs": [],
   "source": [
    "def policy_iteration(dynamics, gamma=0.9, outer_iter=100, inner_iter=100):\n",
    "    \"\"\"\n",
    "    optimizes a policy based on Policy Iteration\n",
    " \n",
    "    Args:\n",
    "        dynamics (FrozenLakeMDP): dynamics of the environment.\n",
    "        gamma (float): discount factor.\n",
    "        outer_iter (int): number of iterations for the Policy Iteration loop.\n",
    "        inner_iter (int): number of iterations for the Policy Evaluation loop.\n",
    " \n",
    "    Returns:\n",
    "        numpy.array: the optimized policy.\n",
    "    \"\"\"\n",
    "\n",
    "    # Policy Iteration algorithm\n",
    "    policy = np.random.randint(0, 4, size=16)\n",
    "    early_stop = False\n",
    "    for policy_itr in range(outer_iter):\n",
    "        s_value = policy_evaluation(dynamics, policy, gamma, inner_iter)\n",
    "        new_policy = greedy_policy_improvement(dynamics, s_value)\n",
    "        if np.sum(np.abs(np.subtract(new_policy, policy))) == 0:\n",
    "            early_stop = True\n",
    "            # print(\"Number of Policy Iterations: \", policy_itr)\n",
    "            print(\"Value Matrix:\")\n",
    "            for i in range(4):\n",
    "                print(np.array2string(s_value[4*i:4*i+4], precision=3, separator=' \\t'))\n",
    "            break\n",
    "        policy = new_policy\n",
    "    if not early_stop:\n",
    "        print(\"Value Matrix:\")\n",
    "        for i in range(4):\n",
    "            print(np.array2string(s_value[4*i:4*i+4], precision=3, separator=' \\t'))\n",
    "    return policy"
   ]
  },
  {
   "cell_type": "code",
   "execution_count": 55,
   "metadata": {
    "ExecuteTime": {
     "end_time": "2024-02-06T20:59:35.094978300Z",
     "start_time": "2024-02-06T20:59:35.027795900Z"
    }
   },
   "outputs": [
    {
     "name": "stdout",
     "output_type": "stream",
     "text": [
      "Achieved value and policy matrices for non-slippery gameplay and gamma=0.9:\n",
      "Value Matrix:\n",
      "[0.59  \t0.656 \t0.729 \t0.656]\n",
      "[0.656 \t0.    \t0.81  \t0.   ]\n",
      "[0.729 \t0.81  \t0.9   \t0.   ]\n",
      "[0.  \t0.9 \t1.  \t0. ]\n",
      "Policy Matrix:\n",
      "[1\t2\t1\t0]\n",
      "[ 1\t-1\t 1\t-1]\n",
      "[ 2\t 1\t 1\t-1]\n",
      "[-1\t 2\t 2\t-1]\n"
     ]
    }
   ],
   "source": [
    "# test and analyze the algorithm\n",
    "is_slippery = False\n",
    "gamma = 0.9\n",
    "dynamics = FrozenLakeMDP(is_slippery=is_slippery)\n",
    "print(f'Achieved value and policy matrices for {\"\" if is_slippery else \"non-\"}slippery gameplay and gamma={gamma}:')\n",
    "policy = policy_iteration(dynamics, gamma=gamma)\n",
    "print(\"Policy Matrix:\")\n",
    "for i in range(4):\n",
    "    print(np.array2string(policy[4*i:4*i+4], separator='\\t'))"
   ]
  },
  {
   "cell_type": "code",
   "execution_count": 56,
   "metadata": {
    "ExecuteTime": {
     "end_time": "2024-02-06T20:59:35.194902600Z",
     "start_time": "2024-02-06T20:59:35.083011800Z"
    }
   },
   "outputs": [
    {
     "name": "stdout",
     "output_type": "stream",
     "text": [
      "step: 1, action: 1, state: 4, reward: 0.0, done: False, truncated: False, info: {'prob': 1.0}\n",
      "step: 2, action: 1, state: 8, reward: 0.0, done: False, truncated: False, info: {'prob': 1.0}\n",
      "step: 3, action: 2, state: 9, reward: 0.0, done: False, truncated: False, info: {'prob': 1.0}\n",
      "step: 4, action: 1, state: 13, reward: 0.0, done: False, truncated: False, info: {'prob': 1.0}\n",
      "step: 5, action: 2, state: 14, reward: 0.0, done: False, truncated: False, info: {'prob': 1.0}\n",
      "step: 6, action: 2, state: 15, reward: 1.0, done: True, truncated: False, info: {'prob': 1.0}\n",
      "total reward: 1.0\n"
     ]
    },
    {
     "data": {
      "text/plain": "<IPython.core.display.HTML object>",
      "text/html": "<video width=500 controls><source src=\"data:video/mp4;base64,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\"></video>"
     },
     "execution_count": 56,
     "metadata": {},
     "output_type": "execute_result"
    }
   ],
   "source": [
    "# test the policy on the environment\n",
    "if is_slippery:\n",
    "    video_name = 'frozenlake_slippery_PolicyItr.gif'\n",
    "else:\n",
    "    video_name = 'frozenlake_PolicyItr.gif'\n",
    "env = gym.make(\"FrozenLake-v1\", map_name=\"4x4\", is_slippery=is_slippery, render_mode='rgb_array')\n",
    "total_reward = record_video(env, policy, video_name, fps=5, random_action=False)\n",
    "print(f\"total reward: {total_reward}\")\n",
    "show_video(video_name, video_width=500)"
   ]
  },
  {
   "cell_type": "markdown",
   "metadata": {},
   "source": [
    "## Q-Learning"
   ]
  },
  {
   "cell_type": "code",
   "execution_count": 57,
   "metadata": {
    "ExecuteTime": {
     "end_time": "2024-02-06T20:59:35.196923900Z",
     "start_time": "2024-02-06T20:59:35.153552900Z"
    }
   },
   "outputs": [],
   "source": [
    "class QAgent:  # The Q-Learning RL agent\n",
    "\n",
    "    def __init__(self, num_states, num_actions, epsilon, alpha, gamma=0.9, eps_end=0.01, eps_decay=3e-6, alpha_end = 0.03, alpha_decay = 1e-6):\n",
    "\n",
    "        self.num_states = num_states    # number of possible states\n",
    "        self.num_actions = num_actions  # number of possible actions\n",
    "        self.gamma = gamma              # discount factor\n",
    "        self.epsilon = epsilon          # initial exploration probability\n",
    "        self.alpha = alpha              # step size\n",
    "        self.eps_decay = eps_decay      # linear decay rate of epsilon\n",
    "        self.eps_end = eps_end          # minimum value for epsilon\n",
    "        self.alpha_end = alpha_end      # linear decay rate of alpha\n",
    "        self.alpha_decay = alpha_decay  # minimum value for alpha\n",
    "        self.q_table = np.zeros((num_states, num_actions), dtype=float)\n",
    "\n",
    "    def get_q(self):\n",
    "        return self.q_table\n",
    "    \n",
    "    def choose_action(self, state):\n",
    "        \"\"\"\n",
    "        chooses an action in an epsilon-greedy manner.\n",
    "    \n",
    "        Args:\n",
    "            state (int): current state of the agent.\n",
    "    \n",
    "        Returns:\n",
    "            int: the chosen action\n",
    "        \"\"\"\n",
    "        \n",
    "        # epsilon-greedy action selection\n",
    "        action = 0\n",
    "        if np.random.uniform() < self.epsilon:\n",
    "            action = np.random.randint(self.num_actions)\n",
    "        else:\n",
    "            action = np.argmax(self.q_table[state])\n",
    "        return action\n",
    "\n",
    "    def learn(self, state, action, reward, next_state):\n",
    "        \"\"\"\n",
    "        updates the q-table based on a single interaction with the environment.\n",
    "    \n",
    "        Args:\n",
    "            state (int): state of the agent.\n",
    "            action (int): action chosen by the agent.\n",
    "            reward (int): reward obtained by the agent.\n",
    "            next_state (int): next state of the agent.\n",
    "        \"\"\"\n",
    "\n",
    "        # Q-table update\n",
    "        self.q_table[state, action] += self.alpha * (reward + self.gamma * np.max(self.q_table[next_state]) - self.q_table[state, action])\n",
    "        \n",
    "        # epsilon decay\n",
    "        self.epsilon = self.epsilon - self.eps_decay if self.epsilon > self.eps_end else self.eps_end\n",
    "        # alpha decay\n",
    "        self.alpha = self.alpha - self.alpha_decay if self.alpha > self.alpha_end else self.alpha_end"
   ]
  },
  {
   "cell_type": "code",
   "execution_count": 58,
   "metadata": {
    "ExecuteTime": {
     "end_time": "2024-02-06T20:59:35.200884Z",
     "start_time": "2024-02-06T20:59:35.165884200Z"
    }
   },
   "outputs": [],
   "source": [
    "def train(env, agent, n_episodes=100000):\n",
    "    \"\"\"\n",
    "        trains an agent through interactions with the environemnt using Q-learning.\n",
    "    \n",
    "        Args:\n",
    "            env (gym.Env): the gym environment.\n",
    "            agent (QAgent): the Q-learning agent.\n",
    "            n_episodes (int): number of training episodes.\n",
    "    \"\"\"\n",
    "\n",
    "    for episode_idx in range(n_episodes):\n",
    "        # the training loop for Q-learning\n",
    "        terminated = False\n",
    "        truncated = False\n",
    "        state, info = env.reset()\n",
    "        # print(f\"Value Matrix {episode_idx}:\")\n",
    "        # for i in range(4):\n",
    "        #     for j in range(4):\n",
    "        #         print(np.max(agent.get_q()[4*i+j]), end=' \\t')\n",
    "        #     print()\n",
    "        while not (terminated or truncated):\n",
    "            action = agent.choose_action(state)\n",
    "            next_state, reward, terminated, truncated, info = env.step(action)\n",
    "            agent.learn(state, action, reward, next_state)\n",
    "            state = next_state\n",
    "        "
   ]
  },
  {
   "cell_type": "code",
   "execution_count": 59,
   "metadata": {
    "ExecuteTime": {
     "end_time": "2024-02-06T20:59:35.202879900Z",
     "start_time": "2024-02-06T20:59:35.178847900Z"
    }
   },
   "outputs": [],
   "source": [
    "is_slippery = True\n",
    "alpha = 3e-1\n",
    "gamma = 0.9999\n",
    "episode_count = 10000\n",
    "epsilon_decay = 0.3 / episode_count\n",
    "alpha_decay = 0.1 / episode_count\n",
    "env = gym.make(\"FrozenLake-v1\", map_name=\"4x4\", is_slippery=is_slippery)\n",
    "agent = QAgent(num_states=16, num_actions=4, epsilon=1.0, alpha=alpha, gamma=gamma, eps_decay = epsilon_decay, alpha_decay = alpha_decay)"
   ]
  },
  {
   "cell_type": "code",
   "execution_count": 60,
   "metadata": {
    "ExecuteTime": {
     "end_time": "2024-02-06T20:59:48.300354900Z",
     "start_time": "2024-02-06T20:59:35.205872100Z"
    }
   },
   "outputs": [],
   "source": [
    "train(env, agent, n_episodes=episode_count)"
   ]
  },
  {
   "cell_type": "code",
   "execution_count": 61,
   "metadata": {
    "ExecuteTime": {
     "end_time": "2024-02-06T20:59:48.321475900Z",
     "start_time": "2024-02-06T20:59:48.306351500Z"
    }
   },
   "outputs": [
    {
     "name": "stdout",
     "output_type": "stream",
     "text": [
      "Policy Matrix achieved for slippery gameplay and\n",
      "alpha=0.3, gamma=0.9999, eps_decay=3.0e-05, alpha_decay=1.0e-05 during 10000 episodes:\n",
      "[2\t3\t3\t3]\n",
      "[ 0\t-1\t 2\t-1]\n",
      "[ 3\t 1\t 0\t-1]\n",
      "[-1\t 2\t 1\t-1]\n"
     ]
    }
   ],
   "source": [
    "# obtain the policy by a simple argmax on agent's Q-table\n",
    "# Also setting terminal states policy to -1\n",
    "terminals = np.subtract(1, np.heaviside(np.sum(agent.q_table, axis=1), 0))\n",
    "policy = np.add(np.multiply(np.subtract(1, terminals), np.argmax(agent.q_table, axis=1)), np.multiply(-1, terminals)).astype(int)\n",
    "print(f'Policy Matrix achieved for {\"\" if is_slippery else \"non-\"}slippery gameplay and\\nalpha={alpha}, gamma={gamma}, eps_decay={\"{:.1e}\".format(epsilon_decay)}, alpha_decay={\"{:.1e}\".format(alpha_decay)} during {episode_count} episodes:')\n",
    "for i in range(4):\n",
    "    print(np.array2string(policy[4*i:4*i+4], separator='\\t'))"
   ]
  },
  {
   "cell_type": "code",
   "execution_count": 62,
   "metadata": {
    "ExecuteTime": {
     "end_time": "2024-02-06T20:59:49.077041600Z",
     "start_time": "2024-02-06T20:59:48.315492Z"
    }
   },
   "outputs": [
    {
     "name": "stdout",
     "output_type": "stream",
     "text": [
      "step: 1, action: 2, state: 4, reward: 0.0, done: False, truncated: False, info: {'prob': 0.3333333333333333}\n",
      "step: 2, action: 0, state: 4, reward: 0.0, done: False, truncated: False, info: {'prob': 0.3333333333333333}\n",
      "step: 3, action: 0, state: 8, reward: 0.0, done: False, truncated: False, info: {'prob': 0.3333333333333333}\n",
      "step: 4, action: 3, state: 8, reward: 0.0, done: False, truncated: False, info: {'prob': 0.3333333333333333}\n",
      "step: 5, action: 3, state: 4, reward: 0.0, done: False, truncated: False, info: {'prob': 0.3333333333333333}\n",
      "step: 6, action: 0, state: 4, reward: 0.0, done: False, truncated: False, info: {'prob': 0.3333333333333333}\n",
      "step: 7, action: 0, state: 8, reward: 0.0, done: False, truncated: False, info: {'prob': 0.3333333333333333}\n",
      "step: 8, action: 3, state: 4, reward: 0.0, done: False, truncated: False, info: {'prob': 0.3333333333333333}\n",
      "step: 9, action: 0, state: 0, reward: 0.0, done: False, truncated: False, info: {'prob': 0.3333333333333333}\n",
      "step: 10, action: 2, state: 1, reward: 0.0, done: False, truncated: False, info: {'prob': 0.3333333333333333}\n",
      "step: 11, action: 3, state: 0, reward: 0.0, done: False, truncated: False, info: {'prob': 0.3333333333333333}\n",
      "step: 12, action: 2, state: 1, reward: 0.0, done: False, truncated: False, info: {'prob': 0.3333333333333333}\n",
      "step: 13, action: 3, state: 1, reward: 0.0, done: False, truncated: False, info: {'prob': 0.3333333333333333}\n",
      "step: 14, action: 3, state: 1, reward: 0.0, done: False, truncated: False, info: {'prob': 0.3333333333333333}\n",
      "step: 15, action: 3, state: 2, reward: 0.0, done: False, truncated: False, info: {'prob': 0.3333333333333333}\n",
      "step: 16, action: 3, state: 2, reward: 0.0, done: False, truncated: False, info: {'prob': 0.3333333333333333}\n",
      "step: 17, action: 3, state: 1, reward: 0.0, done: False, truncated: False, info: {'prob': 0.3333333333333333}\n",
      "step: 18, action: 3, state: 0, reward: 0.0, done: False, truncated: False, info: {'prob': 0.3333333333333333}\n",
      "step: 19, action: 2, state: 0, reward: 0.0, done: False, truncated: False, info: {'prob': 0.3333333333333333}\n",
      "step: 20, action: 2, state: 0, reward: 0.0, done: False, truncated: False, info: {'prob': 0.3333333333333333}\n",
      "step: 21, action: 2, state: 4, reward: 0.0, done: False, truncated: False, info: {'prob': 0.3333333333333333}\n",
      "step: 22, action: 0, state: 8, reward: 0.0, done: False, truncated: False, info: {'prob': 0.3333333333333333}\n",
      "step: 23, action: 3, state: 8, reward: 0.0, done: False, truncated: False, info: {'prob': 0.3333333333333333}\n",
      "step: 24, action: 3, state: 4, reward: 0.0, done: False, truncated: False, info: {'prob': 0.3333333333333333}\n",
      "step: 25, action: 0, state: 4, reward: 0.0, done: False, truncated: False, info: {'prob': 0.3333333333333333}\n",
      "step: 26, action: 0, state: 0, reward: 0.0, done: False, truncated: False, info: {'prob': 0.3333333333333333}\n",
      "step: 27, action: 2, state: 1, reward: 0.0, done: False, truncated: False, info: {'prob': 0.3333333333333333}\n",
      "step: 28, action: 3, state: 1, reward: 0.0, done: False, truncated: False, info: {'prob': 0.3333333333333333}\n",
      "step: 29, action: 3, state: 0, reward: 0.0, done: False, truncated: False, info: {'prob': 0.3333333333333333}\n",
      "step: 30, action: 2, state: 1, reward: 0.0, done: False, truncated: False, info: {'prob': 0.3333333333333333}\n",
      "step: 31, action: 3, state: 1, reward: 0.0, done: False, truncated: False, info: {'prob': 0.3333333333333333}\n",
      "step: 32, action: 3, state: 1, reward: 0.0, done: False, truncated: False, info: {'prob': 0.3333333333333333}\n",
      "step: 33, action: 3, state: 1, reward: 0.0, done: False, truncated: False, info: {'prob': 0.3333333333333333}\n",
      "step: 34, action: 3, state: 0, reward: 0.0, done: False, truncated: False, info: {'prob': 0.3333333333333333}\n",
      "step: 35, action: 2, state: 1, reward: 0.0, done: False, truncated: False, info: {'prob': 0.3333333333333333}\n",
      "step: 36, action: 3, state: 2, reward: 0.0, done: False, truncated: False, info: {'prob': 0.3333333333333333}\n",
      "step: 37, action: 3, state: 2, reward: 0.0, done: False, truncated: False, info: {'prob': 0.3333333333333333}\n",
      "step: 38, action: 3, state: 3, reward: 0.0, done: False, truncated: False, info: {'prob': 0.3333333333333333}\n",
      "step: 39, action: 3, state: 3, reward: 0.0, done: False, truncated: False, info: {'prob': 0.3333333333333333}\n",
      "step: 40, action: 3, state: 2, reward: 0.0, done: False, truncated: False, info: {'prob': 0.3333333333333333}\n",
      "step: 41, action: 3, state: 3, reward: 0.0, done: False, truncated: False, info: {'prob': 0.3333333333333333}\n",
      "step: 42, action: 3, state: 2, reward: 0.0, done: False, truncated: False, info: {'prob': 0.3333333333333333}\n",
      "step: 43, action: 3, state: 3, reward: 0.0, done: False, truncated: False, info: {'prob': 0.3333333333333333}\n",
      "step: 44, action: 3, state: 3, reward: 0.0, done: False, truncated: False, info: {'prob': 0.3333333333333333}\n",
      "step: 45, action: 3, state: 3, reward: 0.0, done: False, truncated: False, info: {'prob': 0.3333333333333333}\n",
      "step: 46, action: 3, state: 3, reward: 0.0, done: False, truncated: False, info: {'prob': 0.3333333333333333}\n",
      "step: 47, action: 3, state: 2, reward: 0.0, done: False, truncated: False, info: {'prob': 0.3333333333333333}\n",
      "step: 48, action: 3, state: 3, reward: 0.0, done: False, truncated: False, info: {'prob': 0.3333333333333333}\n",
      "step: 49, action: 3, state: 3, reward: 0.0, done: False, truncated: False, info: {'prob': 0.3333333333333333}\n",
      "step: 50, action: 3, state: 3, reward: 0.0, done: False, truncated: False, info: {'prob': 0.3333333333333333}\n",
      "step: 51, action: 3, state: 3, reward: 0.0, done: False, truncated: False, info: {'prob': 0.3333333333333333}\n",
      "step: 52, action: 3, state: 3, reward: 0.0, done: False, truncated: False, info: {'prob': 0.3333333333333333}\n",
      "step: 53, action: 3, state: 2, reward: 0.0, done: False, truncated: False, info: {'prob': 0.3333333333333333}\n",
      "step: 54, action: 3, state: 1, reward: 0.0, done: False, truncated: False, info: {'prob': 0.3333333333333333}\n",
      "step: 55, action: 3, state: 1, reward: 0.0, done: False, truncated: False, info: {'prob': 0.3333333333333333}\n",
      "step: 56, action: 3, state: 2, reward: 0.0, done: False, truncated: False, info: {'prob': 0.3333333333333333}\n",
      "step: 57, action: 3, state: 2, reward: 0.0, done: False, truncated: False, info: {'prob': 0.3333333333333333}\n",
      "step: 58, action: 3, state: 3, reward: 0.0, done: False, truncated: False, info: {'prob': 0.3333333333333333}\n",
      "step: 59, action: 3, state: 2, reward: 0.0, done: False, truncated: False, info: {'prob': 0.3333333333333333}\n",
      "step: 60, action: 3, state: 1, reward: 0.0, done: False, truncated: False, info: {'prob': 0.3333333333333333}\n",
      "step: 61, action: 3, state: 1, reward: 0.0, done: False, truncated: False, info: {'prob': 0.3333333333333333}\n",
      "step: 62, action: 3, state: 0, reward: 0.0, done: False, truncated: False, info: {'prob': 0.3333333333333333}\n",
      "step: 63, action: 2, state: 4, reward: 0.0, done: False, truncated: False, info: {'prob': 0.3333333333333333}\n",
      "step: 64, action: 0, state: 8, reward: 0.0, done: False, truncated: False, info: {'prob': 0.3333333333333333}\n",
      "step: 65, action: 3, state: 4, reward: 0.0, done: False, truncated: False, info: {'prob': 0.3333333333333333}\n",
      "step: 66, action: 0, state: 8, reward: 0.0, done: False, truncated: False, info: {'prob': 0.3333333333333333}\n",
      "step: 67, action: 3, state: 8, reward: 0.0, done: False, truncated: False, info: {'prob': 0.3333333333333333}\n",
      "step: 68, action: 3, state: 4, reward: 0.0, done: False, truncated: False, info: {'prob': 0.3333333333333333}\n",
      "step: 69, action: 0, state: 0, reward: 0.0, done: False, truncated: False, info: {'prob': 0.3333333333333333}\n",
      "step: 70, action: 2, state: 1, reward: 0.0, done: False, truncated: False, info: {'prob': 0.3333333333333333}\n",
      "step: 71, action: 3, state: 2, reward: 0.0, done: False, truncated: False, info: {'prob': 0.3333333333333333}\n",
      "step: 72, action: 3, state: 3, reward: 0.0, done: False, truncated: False, info: {'prob': 0.3333333333333333}\n",
      "step: 73, action: 3, state: 2, reward: 0.0, done: False, truncated: False, info: {'prob': 0.3333333333333333}\n",
      "step: 74, action: 3, state: 1, reward: 0.0, done: False, truncated: False, info: {'prob': 0.3333333333333333}\n",
      "step: 75, action: 3, state: 2, reward: 0.0, done: False, truncated: False, info: {'prob': 0.3333333333333333}\n",
      "step: 76, action: 3, state: 2, reward: 0.0, done: False, truncated: False, info: {'prob': 0.3333333333333333}\n",
      "step: 77, action: 3, state: 2, reward: 0.0, done: False, truncated: False, info: {'prob': 0.3333333333333333}\n",
      "step: 78, action: 3, state: 1, reward: 0.0, done: False, truncated: False, info: {'prob': 0.3333333333333333}\n",
      "step: 79, action: 3, state: 1, reward: 0.0, done: False, truncated: False, info: {'prob': 0.3333333333333333}\n",
      "step: 80, action: 3, state: 2, reward: 0.0, done: False, truncated: False, info: {'prob': 0.3333333333333333}\n",
      "step: 81, action: 3, state: 2, reward: 0.0, done: False, truncated: False, info: {'prob': 0.3333333333333333}\n",
      "step: 82, action: 3, state: 2, reward: 0.0, done: False, truncated: False, info: {'prob': 0.3333333333333333}\n",
      "step: 83, action: 3, state: 2, reward: 0.0, done: False, truncated: False, info: {'prob': 0.3333333333333333}\n",
      "step: 84, action: 3, state: 2, reward: 0.0, done: False, truncated: False, info: {'prob': 0.3333333333333333}\n",
      "step: 85, action: 3, state: 2, reward: 0.0, done: False, truncated: False, info: {'prob': 0.3333333333333333}\n",
      "step: 86, action: 3, state: 3, reward: 0.0, done: False, truncated: False, info: {'prob': 0.3333333333333333}\n",
      "step: 87, action: 3, state: 3, reward: 0.0, done: False, truncated: False, info: {'prob': 0.3333333333333333}\n",
      "step: 88, action: 3, state: 3, reward: 0.0, done: False, truncated: False, info: {'prob': 0.3333333333333333}\n",
      "step: 89, action: 3, state: 3, reward: 0.0, done: False, truncated: False, info: {'prob': 0.3333333333333333}\n",
      "step: 90, action: 3, state: 3, reward: 0.0, done: False, truncated: False, info: {'prob': 0.3333333333333333}\n",
      "step: 91, action: 3, state: 3, reward: 0.0, done: False, truncated: False, info: {'prob': 0.3333333333333333}\n",
      "step: 92, action: 3, state: 3, reward: 0.0, done: False, truncated: False, info: {'prob': 0.3333333333333333}\n",
      "step: 93, action: 3, state: 3, reward: 0.0, done: False, truncated: False, info: {'prob': 0.3333333333333333}\n",
      "step: 94, action: 3, state: 3, reward: 0.0, done: False, truncated: False, info: {'prob': 0.3333333333333333}\n",
      "step: 95, action: 3, state: 3, reward: 0.0, done: False, truncated: False, info: {'prob': 0.3333333333333333}\n",
      "step: 96, action: 3, state: 3, reward: 0.0, done: False, truncated: False, info: {'prob': 0.3333333333333333}\n",
      "step: 97, action: 3, state: 2, reward: 0.0, done: False, truncated: False, info: {'prob': 0.3333333333333333}\n",
      "step: 98, action: 3, state: 3, reward: 0.0, done: False, truncated: False, info: {'prob': 0.3333333333333333}\n",
      "step: 99, action: 3, state: 2, reward: 0.0, done: False, truncated: False, info: {'prob': 0.3333333333333333}\n",
      "step: 100, action: 3, state: 2, reward: 0.0, done: False, truncated: True, info: {'prob': 0.3333333333333333}\n",
      "total reward: 0.0\n"
     ]
    },
    {
     "data": {
      "text/plain": "<IPython.core.display.HTML object>",
      "text/html": "<video width=500 controls><source src=\"data:video/mp4;base64,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\"></video>"
     },
     "execution_count": 62,
     "metadata": {},
     "output_type": "execute_result"
    }
   ],
   "source": [
    "# test the policy on the environment\n",
    "if is_slippery:\n",
    "    video_name = 'frozenlake_slippery_QLearn.gif'\n",
    "else:\n",
    "    video_name = 'frozenlake_QLearn.gif'\n",
    "env = gym.make(\"FrozenLake-v1\", map_name=\"4x4\", is_slippery=is_slippery, render_mode='rgb_array')\n",
    "total_reward = record_video(env, policy, video_name, fps=5, random_action=False)\n",
    "print(f\"total reward: {total_reward}\")\n",
    "show_video(video_name, video_width=500)"
   ]
  }
 ],
 "metadata": {
  "kernelspec": {
   "display_name": "Python 3 (ipykernel)",
   "language": "python",
   "name": "python3"
  },
  "language_info": {
   "codemirror_mode": {
    "name": "ipython",
    "version": 3
   },
   "file_extension": ".py",
   "mimetype": "text/x-python",
   "name": "python",
   "nbconvert_exporter": "python",
   "pygments_lexer": "ipython3",
   "version": "3.12.0"
  }
 },
 "nbformat": 4,
 "nbformat_minor": 4
}
